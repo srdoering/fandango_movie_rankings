{
 "cells": [
  {
   "cell_type": "markdown",
   "metadata": {},
   "source": [
    "# Investigating Fandango Movie Ratings\n",
    "\n",
    "In his 2015 article [Be Suspicious of Online Movie Ratings, Especially Fandango's](https://fivethirtyeight.com/features/fandango-movies-ratings/), Walt Hickey argued using [data he collected](https://github.com/fivethirtyeight/data/blob/master/fandango/README.md) that Fandango had inflated its user's movie rankings. In this analysis, we will investigate whether Fandango's ratings still appear to be inflated, by comparing to this [dataset](https://github.com/mircealex/Movie_ratings_2016_17/blob/master/README.md) collected by user mircealex consisting of a sample of movies ranked after Hickey's article was published. We'll call these respectively the \"Before\" and \"After\" sets.\n",
    "\n",
    "Specifically, the \"Before\" set consists of all films from Jan-Aug 2015 that had ratings on all websites and at least 30 fan reviews on Fandango. The \"After\" set contains a selection of the \"most popular movies\" (no specific threshold given) released in 2016 and Jan-Mar 2017.\n",
    "\n",
    "Hence, these are fairly representative of movies in 2015 and 2016/beginning of 2017, respectively. However, they come from different years, so the populations from which they're sampled may have different characteristics."
   ]
  },
  {
   "cell_type": "code",
   "execution_count": 1,
   "metadata": {},
   "outputs": [],
   "source": [
    "import pandas as pd\n",
    "\n",
    "scores_before = pd.read_csv('fandango_score_comparison.csv')\n",
    "scores_after = pd.read_csv('movie_ratings_16_17.csv')"
   ]
  },
  {
   "cell_type": "code",
   "execution_count": 2,
   "metadata": {},
   "outputs": [
    {
     "data": {
      "text/html": [
       "<div>\n",
       "<style scoped>\n",
       "    .dataframe tbody tr th:only-of-type {\n",
       "        vertical-align: middle;\n",
       "    }\n",
       "\n",
       "    .dataframe tbody tr th {\n",
       "        vertical-align: top;\n",
       "    }\n",
       "\n",
       "    .dataframe thead th {\n",
       "        text-align: right;\n",
       "    }\n",
       "</style>\n",
       "<table border=\"1\" class=\"dataframe\">\n",
       "  <thead>\n",
       "    <tr style=\"text-align: right;\">\n",
       "      <th></th>\n",
       "      <th>FILM</th>\n",
       "      <th>RottenTomatoes</th>\n",
       "      <th>RottenTomatoes_User</th>\n",
       "      <th>Metacritic</th>\n",
       "      <th>Metacritic_User</th>\n",
       "      <th>IMDB</th>\n",
       "      <th>Fandango_Stars</th>\n",
       "      <th>Fandango_Ratingvalue</th>\n",
       "      <th>RT_norm</th>\n",
       "      <th>RT_user_norm</th>\n",
       "      <th>...</th>\n",
       "      <th>IMDB_norm</th>\n",
       "      <th>RT_norm_round</th>\n",
       "      <th>RT_user_norm_round</th>\n",
       "      <th>Metacritic_norm_round</th>\n",
       "      <th>Metacritic_user_norm_round</th>\n",
       "      <th>IMDB_norm_round</th>\n",
       "      <th>Metacritic_user_vote_count</th>\n",
       "      <th>IMDB_user_vote_count</th>\n",
       "      <th>Fandango_votes</th>\n",
       "      <th>Fandango_Difference</th>\n",
       "    </tr>\n",
       "  </thead>\n",
       "  <tbody>\n",
       "    <tr>\n",
       "      <th>0</th>\n",
       "      <td>Avengers: Age of Ultron (2015)</td>\n",
       "      <td>74</td>\n",
       "      <td>86</td>\n",
       "      <td>66</td>\n",
       "      <td>7.1</td>\n",
       "      <td>7.8</td>\n",
       "      <td>5.0</td>\n",
       "      <td>4.5</td>\n",
       "      <td>3.70</td>\n",
       "      <td>4.3</td>\n",
       "      <td>...</td>\n",
       "      <td>3.90</td>\n",
       "      <td>3.5</td>\n",
       "      <td>4.5</td>\n",
       "      <td>3.5</td>\n",
       "      <td>3.5</td>\n",
       "      <td>4.0</td>\n",
       "      <td>1330</td>\n",
       "      <td>271107</td>\n",
       "      <td>14846</td>\n",
       "      <td>0.5</td>\n",
       "    </tr>\n",
       "    <tr>\n",
       "      <th>1</th>\n",
       "      <td>Cinderella (2015)</td>\n",
       "      <td>85</td>\n",
       "      <td>80</td>\n",
       "      <td>67</td>\n",
       "      <td>7.5</td>\n",
       "      <td>7.1</td>\n",
       "      <td>5.0</td>\n",
       "      <td>4.5</td>\n",
       "      <td>4.25</td>\n",
       "      <td>4.0</td>\n",
       "      <td>...</td>\n",
       "      <td>3.55</td>\n",
       "      <td>4.5</td>\n",
       "      <td>4.0</td>\n",
       "      <td>3.5</td>\n",
       "      <td>4.0</td>\n",
       "      <td>3.5</td>\n",
       "      <td>249</td>\n",
       "      <td>65709</td>\n",
       "      <td>12640</td>\n",
       "      <td>0.5</td>\n",
       "    </tr>\n",
       "    <tr>\n",
       "      <th>2</th>\n",
       "      <td>Ant-Man (2015)</td>\n",
       "      <td>80</td>\n",
       "      <td>90</td>\n",
       "      <td>64</td>\n",
       "      <td>8.1</td>\n",
       "      <td>7.8</td>\n",
       "      <td>5.0</td>\n",
       "      <td>4.5</td>\n",
       "      <td>4.00</td>\n",
       "      <td>4.5</td>\n",
       "      <td>...</td>\n",
       "      <td>3.90</td>\n",
       "      <td>4.0</td>\n",
       "      <td>4.5</td>\n",
       "      <td>3.0</td>\n",
       "      <td>4.0</td>\n",
       "      <td>4.0</td>\n",
       "      <td>627</td>\n",
       "      <td>103660</td>\n",
       "      <td>12055</td>\n",
       "      <td>0.5</td>\n",
       "    </tr>\n",
       "    <tr>\n",
       "      <th>3</th>\n",
       "      <td>Do You Believe? (2015)</td>\n",
       "      <td>18</td>\n",
       "      <td>84</td>\n",
       "      <td>22</td>\n",
       "      <td>4.7</td>\n",
       "      <td>5.4</td>\n",
       "      <td>5.0</td>\n",
       "      <td>4.5</td>\n",
       "      <td>0.90</td>\n",
       "      <td>4.2</td>\n",
       "      <td>...</td>\n",
       "      <td>2.70</td>\n",
       "      <td>1.0</td>\n",
       "      <td>4.0</td>\n",
       "      <td>1.0</td>\n",
       "      <td>2.5</td>\n",
       "      <td>2.5</td>\n",
       "      <td>31</td>\n",
       "      <td>3136</td>\n",
       "      <td>1793</td>\n",
       "      <td>0.5</td>\n",
       "    </tr>\n",
       "    <tr>\n",
       "      <th>4</th>\n",
       "      <td>Hot Tub Time Machine 2 (2015)</td>\n",
       "      <td>14</td>\n",
       "      <td>28</td>\n",
       "      <td>29</td>\n",
       "      <td>3.4</td>\n",
       "      <td>5.1</td>\n",
       "      <td>3.5</td>\n",
       "      <td>3.0</td>\n",
       "      <td>0.70</td>\n",
       "      <td>1.4</td>\n",
       "      <td>...</td>\n",
       "      <td>2.55</td>\n",
       "      <td>0.5</td>\n",
       "      <td>1.5</td>\n",
       "      <td>1.5</td>\n",
       "      <td>1.5</td>\n",
       "      <td>2.5</td>\n",
       "      <td>88</td>\n",
       "      <td>19560</td>\n",
       "      <td>1021</td>\n",
       "      <td>0.5</td>\n",
       "    </tr>\n",
       "  </tbody>\n",
       "</table>\n",
       "<p>5 rows × 22 columns</p>\n",
       "</div>"
      ],
      "text/plain": [
       "                             FILM  RottenTomatoes  RottenTomatoes_User  \\\n",
       "0  Avengers: Age of Ultron (2015)              74                   86   \n",
       "1               Cinderella (2015)              85                   80   \n",
       "2                  Ant-Man (2015)              80                   90   \n",
       "3          Do You Believe? (2015)              18                   84   \n",
       "4   Hot Tub Time Machine 2 (2015)              14                   28   \n",
       "\n",
       "   Metacritic  Metacritic_User  IMDB  Fandango_Stars  Fandango_Ratingvalue  \\\n",
       "0          66              7.1   7.8             5.0                   4.5   \n",
       "1          67              7.5   7.1             5.0                   4.5   \n",
       "2          64              8.1   7.8             5.0                   4.5   \n",
       "3          22              4.7   5.4             5.0                   4.5   \n",
       "4          29              3.4   5.1             3.5                   3.0   \n",
       "\n",
       "   RT_norm  RT_user_norm  ...  IMDB_norm  RT_norm_round  RT_user_norm_round  \\\n",
       "0     3.70           4.3  ...       3.90            3.5                 4.5   \n",
       "1     4.25           4.0  ...       3.55            4.5                 4.0   \n",
       "2     4.00           4.5  ...       3.90            4.0                 4.5   \n",
       "3     0.90           4.2  ...       2.70            1.0                 4.0   \n",
       "4     0.70           1.4  ...       2.55            0.5                 1.5   \n",
       "\n",
       "   Metacritic_norm_round  Metacritic_user_norm_round  IMDB_norm_round  \\\n",
       "0                    3.5                         3.5              4.0   \n",
       "1                    3.5                         4.0              3.5   \n",
       "2                    3.0                         4.0              4.0   \n",
       "3                    1.0                         2.5              2.5   \n",
       "4                    1.5                         1.5              2.5   \n",
       "\n",
       "   Metacritic_user_vote_count  IMDB_user_vote_count  Fandango_votes  \\\n",
       "0                        1330                271107           14846   \n",
       "1                         249                 65709           12640   \n",
       "2                         627                103660           12055   \n",
       "3                          31                  3136            1793   \n",
       "4                          88                 19560            1021   \n",
       "\n",
       "   Fandango_Difference  \n",
       "0                  0.5  \n",
       "1                  0.5  \n",
       "2                  0.5  \n",
       "3                  0.5  \n",
       "4                  0.5  \n",
       "\n",
       "[5 rows x 22 columns]"
      ]
     },
     "execution_count": 2,
     "metadata": {},
     "output_type": "execute_result"
    }
   ],
   "source": [
    "scores_before.head()"
   ]
  },
  {
   "cell_type": "code",
   "execution_count": 3,
   "metadata": {},
   "outputs": [
    {
     "data": {
      "text/html": [
       "<div>\n",
       "<style scoped>\n",
       "    .dataframe tbody tr th:only-of-type {\n",
       "        vertical-align: middle;\n",
       "    }\n",
       "\n",
       "    .dataframe tbody tr th {\n",
       "        vertical-align: top;\n",
       "    }\n",
       "\n",
       "    .dataframe thead th {\n",
       "        text-align: right;\n",
       "    }\n",
       "</style>\n",
       "<table border=\"1\" class=\"dataframe\">\n",
       "  <thead>\n",
       "    <tr style=\"text-align: right;\">\n",
       "      <th></th>\n",
       "      <th>movie</th>\n",
       "      <th>year</th>\n",
       "      <th>metascore</th>\n",
       "      <th>imdb</th>\n",
       "      <th>tmeter</th>\n",
       "      <th>audience</th>\n",
       "      <th>fandango</th>\n",
       "      <th>n_metascore</th>\n",
       "      <th>n_imdb</th>\n",
       "      <th>n_tmeter</th>\n",
       "      <th>n_audience</th>\n",
       "      <th>nr_metascore</th>\n",
       "      <th>nr_imdb</th>\n",
       "      <th>nr_tmeter</th>\n",
       "      <th>nr_audience</th>\n",
       "    </tr>\n",
       "  </thead>\n",
       "  <tbody>\n",
       "    <tr>\n",
       "      <th>0</th>\n",
       "      <td>10 Cloverfield Lane</td>\n",
       "      <td>2016</td>\n",
       "      <td>76</td>\n",
       "      <td>7.2</td>\n",
       "      <td>90</td>\n",
       "      <td>79</td>\n",
       "      <td>3.5</td>\n",
       "      <td>3.80</td>\n",
       "      <td>3.60</td>\n",
       "      <td>4.50</td>\n",
       "      <td>3.95</td>\n",
       "      <td>4.0</td>\n",
       "      <td>3.5</td>\n",
       "      <td>4.5</td>\n",
       "      <td>4.0</td>\n",
       "    </tr>\n",
       "    <tr>\n",
       "      <th>1</th>\n",
       "      <td>13 Hours</td>\n",
       "      <td>2016</td>\n",
       "      <td>48</td>\n",
       "      <td>7.3</td>\n",
       "      <td>50</td>\n",
       "      <td>83</td>\n",
       "      <td>4.5</td>\n",
       "      <td>2.40</td>\n",
       "      <td>3.65</td>\n",
       "      <td>2.50</td>\n",
       "      <td>4.15</td>\n",
       "      <td>2.5</td>\n",
       "      <td>3.5</td>\n",
       "      <td>2.5</td>\n",
       "      <td>4.0</td>\n",
       "    </tr>\n",
       "    <tr>\n",
       "      <th>2</th>\n",
       "      <td>A Cure for Wellness</td>\n",
       "      <td>2016</td>\n",
       "      <td>47</td>\n",
       "      <td>6.6</td>\n",
       "      <td>40</td>\n",
       "      <td>47</td>\n",
       "      <td>3.0</td>\n",
       "      <td>2.35</td>\n",
       "      <td>3.30</td>\n",
       "      <td>2.00</td>\n",
       "      <td>2.35</td>\n",
       "      <td>2.5</td>\n",
       "      <td>3.5</td>\n",
       "      <td>2.0</td>\n",
       "      <td>2.5</td>\n",
       "    </tr>\n",
       "    <tr>\n",
       "      <th>3</th>\n",
       "      <td>A Dog's Purpose</td>\n",
       "      <td>2017</td>\n",
       "      <td>43</td>\n",
       "      <td>5.2</td>\n",
       "      <td>33</td>\n",
       "      <td>76</td>\n",
       "      <td>4.5</td>\n",
       "      <td>2.15</td>\n",
       "      <td>2.60</td>\n",
       "      <td>1.65</td>\n",
       "      <td>3.80</td>\n",
       "      <td>2.0</td>\n",
       "      <td>2.5</td>\n",
       "      <td>1.5</td>\n",
       "      <td>4.0</td>\n",
       "    </tr>\n",
       "    <tr>\n",
       "      <th>4</th>\n",
       "      <td>A Hologram for the King</td>\n",
       "      <td>2016</td>\n",
       "      <td>58</td>\n",
       "      <td>6.1</td>\n",
       "      <td>70</td>\n",
       "      <td>57</td>\n",
       "      <td>3.0</td>\n",
       "      <td>2.90</td>\n",
       "      <td>3.05</td>\n",
       "      <td>3.50</td>\n",
       "      <td>2.85</td>\n",
       "      <td>3.0</td>\n",
       "      <td>3.0</td>\n",
       "      <td>3.5</td>\n",
       "      <td>3.0</td>\n",
       "    </tr>\n",
       "  </tbody>\n",
       "</table>\n",
       "</div>"
      ],
      "text/plain": [
       "                     movie  year  metascore  imdb  tmeter  audience  fandango  \\\n",
       "0      10 Cloverfield Lane  2016         76   7.2      90        79       3.5   \n",
       "1                 13 Hours  2016         48   7.3      50        83       4.5   \n",
       "2      A Cure for Wellness  2016         47   6.6      40        47       3.0   \n",
       "3          A Dog's Purpose  2017         43   5.2      33        76       4.5   \n",
       "4  A Hologram for the King  2016         58   6.1      70        57       3.0   \n",
       "\n",
       "   n_metascore  n_imdb  n_tmeter  n_audience  nr_metascore  nr_imdb  \\\n",
       "0         3.80    3.60      4.50        3.95           4.0      3.5   \n",
       "1         2.40    3.65      2.50        4.15           2.5      3.5   \n",
       "2         2.35    3.30      2.00        2.35           2.5      3.5   \n",
       "3         2.15    2.60      1.65        3.80           2.0      2.5   \n",
       "4         2.90    3.05      3.50        2.85           3.0      3.0   \n",
       "\n",
       "   nr_tmeter  nr_audience  \n",
       "0        4.5          4.0  \n",
       "1        2.5          4.0  \n",
       "2        2.0          2.5  \n",
       "3        1.5          4.0  \n",
       "4        3.5          3.0  "
      ]
     },
     "execution_count": 3,
     "metadata": {},
     "output_type": "execute_result"
    }
   ],
   "source": [
    "scores_after.head()"
   ]
  },
  {
   "cell_type": "code",
   "execution_count": 4,
   "metadata": {},
   "outputs": [
    {
     "name": "stdout",
     "output_type": "stream",
     "text": [
      "Before sample size: 146\n",
      "After sample size: 214\n"
     ]
    }
   ],
   "source": [
    "print('Before sample size:' , scores_before.shape[0])\n",
    "print('After sample size:' , scores_after.shape[0])"
   ]
  },
  {
   "cell_type": "markdown",
   "metadata": {},
   "source": [
    "## Refining the Sample\n",
    "\n",
    "Below we see that the \"before\" scores come from 2014 and 2015, and that the \"after\" scores include 2016 and 2017. We'll filter \"before\" to just 2015 and \"after\" to just 2016. Limiting the samples to just these years is somewhat arbitrary, but makes it easier to speak about the populations these samples come from."
   ]
  },
  {
   "cell_type": "code",
   "execution_count": 5,
   "metadata": {},
   "outputs": [
    {
     "data": {
      "text/plain": [
       "2015    129\n",
       "2014     17\n",
       "dtype: int64"
      ]
     },
     "execution_count": 5,
     "metadata": {},
     "output_type": "execute_result"
    }
   ],
   "source": [
    "scores_before['FILM'].str.extract('\\(([0-9]+)\\)').value_counts()"
   ]
  },
  {
   "cell_type": "code",
   "execution_count": 6,
   "metadata": {},
   "outputs": [],
   "source": [
    "scores_before = scores_before[scores_before['FILM'].str.contains('\\(2015\\)')].copy()"
   ]
  },
  {
   "cell_type": "code",
   "execution_count": 7,
   "metadata": {},
   "outputs": [
    {
     "data": {
      "text/plain": [
       "2016    191\n",
       "2017     23\n",
       "Name: year, dtype: int64"
      ]
     },
     "execution_count": 7,
     "metadata": {},
     "output_type": "execute_result"
    }
   ],
   "source": [
    "scores_after['year'].value_counts()"
   ]
  },
  {
   "cell_type": "code",
   "execution_count": 8,
   "metadata": {},
   "outputs": [],
   "source": [
    "scores_after = scores_after[scores_after['year'] == 2016].copy()"
   ]
  },
  {
   "cell_type": "markdown",
   "metadata": {},
   "source": [
    "In addition, the \"before\" sample only contains movies with 30 or more fan rankings:"
   ]
  },
  {
   "cell_type": "code",
   "execution_count": 9,
   "metadata": {},
   "outputs": [
    {
     "name": "stdout",
     "output_type": "stream",
     "text": [
      "Minimum number of votes: 35\n"
     ]
    }
   ],
   "source": [
    "print('Minimum number of votes:' , scores_before['Fandango_votes'].min())"
   ]
  },
  {
   "cell_type": "markdown",
   "metadata": {},
   "source": [
    "The second set does not have as specific a criterion for determining popularity. Additionally, Fandango's site no longer lists the number of user votes. So, we'll take a random sample of films and check their number of votes on IMDB as a proxy. We'll compare to the number of votes that the least popular 2015 movies have on IMDB."
   ]
  },
  {
   "cell_type": "code",
   "execution_count": 10,
   "metadata": {},
   "outputs": [
    {
     "data": {
      "text/plain": [
       "111                       Miracles from Heaven\n",
       "161                    The Autopsy of Jane Doe\n",
       "206                                   Warcraft\n",
       "141                              Sausage Party\n",
       "170                               The Darkness\n",
       "76                                    Imperium\n",
       "51     Fantastic Beasts and Where to Find Them\n",
       "46                                        Elle\n",
       "181                            The Infiltrator\n",
       "133                             Precious Cargo\n",
       "Name: movie, dtype: object"
      ]
     },
     "execution_count": 10,
     "metadata": {},
     "output_type": "execute_result"
    }
   ],
   "source": [
    "scores_after['movie'].sample(10, random_state = 57)"
   ]
  },
  {
   "cell_type": "code",
   "execution_count": 11,
   "metadata": {},
   "outputs": [
    {
     "data": {
      "text/html": [
       "<div>\n",
       "<style scoped>\n",
       "    .dataframe tbody tr th:only-of-type {\n",
       "        vertical-align: middle;\n",
       "    }\n",
       "\n",
       "    .dataframe tbody tr th {\n",
       "        vertical-align: top;\n",
       "    }\n",
       "\n",
       "    .dataframe thead th {\n",
       "        text-align: right;\n",
       "    }\n",
       "</style>\n",
       "<table border=\"1\" class=\"dataframe\">\n",
       "  <thead>\n",
       "    <tr style=\"text-align: right;\">\n",
       "      <th></th>\n",
       "      <th>FILM</th>\n",
       "      <th>RottenTomatoes</th>\n",
       "      <th>RottenTomatoes_User</th>\n",
       "      <th>Metacritic</th>\n",
       "      <th>Metacritic_User</th>\n",
       "      <th>IMDB</th>\n",
       "      <th>Fandango_Stars</th>\n",
       "      <th>Fandango_Ratingvalue</th>\n",
       "      <th>RT_norm</th>\n",
       "      <th>RT_user_norm</th>\n",
       "      <th>...</th>\n",
       "      <th>IMDB_norm</th>\n",
       "      <th>RT_norm_round</th>\n",
       "      <th>RT_user_norm_round</th>\n",
       "      <th>Metacritic_norm_round</th>\n",
       "      <th>Metacritic_user_norm_round</th>\n",
       "      <th>IMDB_norm_round</th>\n",
       "      <th>Metacritic_user_vote_count</th>\n",
       "      <th>IMDB_user_vote_count</th>\n",
       "      <th>Fandango_votes</th>\n",
       "      <th>Fandango_Difference</th>\n",
       "    </tr>\n",
       "  </thead>\n",
       "  <tbody>\n",
       "    <tr>\n",
       "      <th>39</th>\n",
       "      <td>Maps to the Stars (2015)</td>\n",
       "      <td>60</td>\n",
       "      <td>46</td>\n",
       "      <td>67</td>\n",
       "      <td>5.8</td>\n",
       "      <td>6.3</td>\n",
       "      <td>3.5</td>\n",
       "      <td>3.1</td>\n",
       "      <td>3.00</td>\n",
       "      <td>2.30</td>\n",
       "      <td>...</td>\n",
       "      <td>3.15</td>\n",
       "      <td>3.0</td>\n",
       "      <td>2.5</td>\n",
       "      <td>3.5</td>\n",
       "      <td>3.0</td>\n",
       "      <td>3.0</td>\n",
       "      <td>46</td>\n",
       "      <td>22440</td>\n",
       "      <td>35</td>\n",
       "      <td>0.4</td>\n",
       "    </tr>\n",
       "    <tr>\n",
       "      <th>43</th>\n",
       "      <td>The Diary of a Teenage Girl (2015)</td>\n",
       "      <td>95</td>\n",
       "      <td>81</td>\n",
       "      <td>87</td>\n",
       "      <td>6.3</td>\n",
       "      <td>7.0</td>\n",
       "      <td>4.0</td>\n",
       "      <td>3.6</td>\n",
       "      <td>4.75</td>\n",
       "      <td>4.05</td>\n",
       "      <td>...</td>\n",
       "      <td>3.50</td>\n",
       "      <td>5.0</td>\n",
       "      <td>4.0</td>\n",
       "      <td>4.5</td>\n",
       "      <td>3.0</td>\n",
       "      <td>3.5</td>\n",
       "      <td>18</td>\n",
       "      <td>1107</td>\n",
       "      <td>38</td>\n",
       "      <td>0.4</td>\n",
       "    </tr>\n",
       "    <tr>\n",
       "      <th>71</th>\n",
       "      <td>The Wrecking Crew (2015)</td>\n",
       "      <td>93</td>\n",
       "      <td>84</td>\n",
       "      <td>67</td>\n",
       "      <td>7.0</td>\n",
       "      <td>7.8</td>\n",
       "      <td>4.5</td>\n",
       "      <td>4.2</td>\n",
       "      <td>4.65</td>\n",
       "      <td>4.20</td>\n",
       "      <td>...</td>\n",
       "      <td>3.90</td>\n",
       "      <td>4.5</td>\n",
       "      <td>4.0</td>\n",
       "      <td>3.5</td>\n",
       "      <td>3.5</td>\n",
       "      <td>4.0</td>\n",
       "      <td>4</td>\n",
       "      <td>732</td>\n",
       "      <td>38</td>\n",
       "      <td>0.3</td>\n",
       "    </tr>\n",
       "    <tr>\n",
       "      <th>122</th>\n",
       "      <td>Tangerine (2015)</td>\n",
       "      <td>95</td>\n",
       "      <td>86</td>\n",
       "      <td>86</td>\n",
       "      <td>7.3</td>\n",
       "      <td>7.4</td>\n",
       "      <td>4.0</td>\n",
       "      <td>3.9</td>\n",
       "      <td>4.75</td>\n",
       "      <td>4.30</td>\n",
       "      <td>...</td>\n",
       "      <td>3.70</td>\n",
       "      <td>5.0</td>\n",
       "      <td>4.5</td>\n",
       "      <td>4.5</td>\n",
       "      <td>3.5</td>\n",
       "      <td>3.5</td>\n",
       "      <td>14</td>\n",
       "      <td>696</td>\n",
       "      <td>36</td>\n",
       "      <td>0.1</td>\n",
       "    </tr>\n",
       "  </tbody>\n",
       "</table>\n",
       "<p>4 rows × 22 columns</p>\n",
       "</div>"
      ],
      "text/plain": [
       "                                   FILM  RottenTomatoes  RottenTomatoes_User  \\\n",
       "39             Maps to the Stars (2015)              60                   46   \n",
       "43   The Diary of a Teenage Girl (2015)              95                   81   \n",
       "71             The Wrecking Crew (2015)              93                   84   \n",
       "122                    Tangerine (2015)              95                   86   \n",
       "\n",
       "     Metacritic  Metacritic_User  IMDB  Fandango_Stars  Fandango_Ratingvalue  \\\n",
       "39           67              5.8   6.3             3.5                   3.1   \n",
       "43           87              6.3   7.0             4.0                   3.6   \n",
       "71           67              7.0   7.8             4.5                   4.2   \n",
       "122          86              7.3   7.4             4.0                   3.9   \n",
       "\n",
       "     RT_norm  RT_user_norm  ...  IMDB_norm  RT_norm_round  RT_user_norm_round  \\\n",
       "39      3.00          2.30  ...       3.15            3.0                 2.5   \n",
       "43      4.75          4.05  ...       3.50            5.0                 4.0   \n",
       "71      4.65          4.20  ...       3.90            4.5                 4.0   \n",
       "122     4.75          4.30  ...       3.70            5.0                 4.5   \n",
       "\n",
       "     Metacritic_norm_round  Metacritic_user_norm_round  IMDB_norm_round  \\\n",
       "39                     3.5                         3.0              3.0   \n",
       "43                     4.5                         3.0              3.5   \n",
       "71                     3.5                         3.5              4.0   \n",
       "122                    4.5                         3.5              3.5   \n",
       "\n",
       "     Metacritic_user_vote_count  IMDB_user_vote_count  Fandango_votes  \\\n",
       "39                           46                 22440              35   \n",
       "43                           18                  1107              38   \n",
       "71                            4                   732              38   \n",
       "122                          14                   696              36   \n",
       "\n",
       "     Fandango_Difference  \n",
       "39                   0.4  \n",
       "43                   0.4  \n",
       "71                   0.3  \n",
       "122                  0.1  \n",
       "\n",
       "[4 rows x 22 columns]"
      ]
     },
     "execution_count": 11,
     "metadata": {},
     "output_type": "execute_result"
    }
   ],
   "source": [
    "scores_before[scores_before['Fandango_votes'] < 40]"
   ]
  },
  {
   "cell_type": "markdown",
   "metadata": {},
   "source": [
    "\"The Wrecking Crew\" is the least with approximately 2700 votes. All movies from the sample have at least this many votes; the lowest is \"Precious Cargo\" with 8600 votes. Hence the two samples seem to have similar popularity thresholds."
   ]
  },
  {
   "cell_type": "markdown",
   "metadata": {},
   "source": [
    "## Comparing \"Before\" and \"After\" Fandango Ratings\n",
    "\n",
    "To begin investigating whether Fandango has stopped inflating its ratings, we can first compare the distribution of the Fandango website's star ratings in the \"Before\" and \"After\" sets."
   ]
  },
  {
   "cell_type": "code",
   "execution_count": 12,
   "metadata": {},
   "outputs": [],
   "source": [
    "import seaborn as sns\n",
    "\n",
    "import matplotlib.pyplot as plt\n",
    "%matplotlib inline"
   ]
  },
  {
   "cell_type": "code",
   "execution_count": 13,
   "metadata": {},
   "outputs": [
    {
     "data": {
      "image/png": "[encoded data removed]",
      "text/plain": [
       "<Figure size 432x288 with 1 Axes>"
      ]
     },
     "metadata": {
      "needs_background": "light"
     },
     "output_type": "display_data"
    }
   ],
   "source": [
    "counts_before = scores_before['Fandango_Stars'].value_counts(normalize = True) * 100\n",
    "counts_after = scores_after['fandango'].value_counts(normalize = True) * 100\n",
    "\n",
    "both_counts = pd.merge(\n",
    "    counts_before, counts_after, left_index = True, right_index = True, how = 'outer').sort_index().rename(\n",
    "    columns = {'Fandango_Stars': 'Before', 'fandango': 'After'})\n",
    "\n",
    "both_counts.plot.bar(rot = 0)\n",
    "plt.title('Percentage of Ratings')\n",
    "plt.xlabel('Rating')\n",
    "plt.ylabel('%')\n",
    "plt.show()"
   ]
  },
  {
   "cell_type": "markdown",
   "metadata": {},
   "source": [
    "It does indeed seem that the percentage of 5-star and 4.5-star ratings has decreased. Does this mean they are now reflecting accurate ratings?\n",
    "\n",
    "This depends firstly on how \"skewed\" ratings were before. We only have data on fan vs website ratings for the \"before\" data. From this we can estimate how skewed the ratings were. First we'll graph both sets of ratings and visually verify the difference:"
   ]
  },
  {
   "cell_type": "code",
   "execution_count": 14,
   "metadata": {},
   "outputs": [
    {
     "data": {
      "image/png": "[encoded data removed]",
      "text/plain": [
       "<Figure size 432x288 with 1 Axes>"
      ]
     },
     "metadata": {
      "needs_background": "light"
     },
     "output_type": "display_data"
    }
   ],
   "source": [
    "sns.kdeplot(x = 'Fandango_Ratingvalue', data = scores_before)\n",
    "sns.kdeplot(x = 'Fandango_Stars', data = scores_before)\n",
    "plt.legend(['User Rating', 'Website Rating'])\n",
    "plt.xlabel('')\n",
    "plt.show()"
   ]
  },
  {
   "cell_type": "markdown",
   "metadata": {},
   "source": [
    "Below, we calculate that the mean inflation was about 0.24 stars, and we can see from the box plot that this inflation was fairly uniform, with 50% of inflation between 0.1 and 0.4 stars. (We could, though, look for patterns in the most inflated movies to refine this)."
   ]
  },
  {
   "cell_type": "code",
   "execution_count": 15,
   "metadata": {
    "scrolled": true
   },
   "outputs": [
    {
     "name": "stdout",
     "output_type": "stream",
     "text": [
      "Average score inflation: 0.24\n"
     ]
    }
   ],
   "source": [
    "print('Average score inflation:', round(scores_before['Fandango_Difference'].mean(),2))"
   ]
  },
  {
   "cell_type": "code",
   "execution_count": 16,
   "metadata": {},
   "outputs": [
    {
     "data": {
      "image/png": "[encoded data removed]",
      "text/plain": [
       "<Figure size 432x288 with 1 Axes>"
      ]
     },
     "metadata": {
      "needs_background": "light"
     },
     "output_type": "display_data"
    }
   ],
   "source": [
    "sns.boxplot(x = 'Fandango_Difference', data = scores_before)\n",
    "plt.show()"
   ]
  },
  {
   "cell_type": "markdown",
   "metadata": {},
   "source": [
    "Hence, if we adjust the old rankings down by 0.24, we will get a very rough estimate of the \"true\" distribution. We make two comparisons below:\n",
    "- Adjusted \"Before\" website rankings vs \"After\" website rankings\n",
    "- \"Before\" user rankings vs \"After\" website rankings"
   ]
  },
  {
   "cell_type": "code",
   "execution_count": 17,
   "metadata": {},
   "outputs": [
    {
     "data": {
      "image/png": "[encoded data removed]",
      "text/plain": [
       "<Figure size 864x288 with 2 Axes>"
      ]
     },
     "metadata": {
      "needs_background": "light"
     },
     "output_type": "display_data"
    }
   ],
   "source": [
    "fig = plt.figure(figsize = (12,4))\n",
    "ax1 = plt.subplot(1,2,1)\n",
    "scores_before['fandango_adjusted'] = scores_before['Fandango_Stars'] - 0.24\n",
    "sns.kdeplot(x = 'fandango_adjusted', data = scores_before, color = 'purple')\n",
    "sns.kdeplot(x = 'fandango', data = scores_after, color = 'red')\n",
    "\n",
    "plt.ylim((0,1))\n",
    "plt.xlabel('Website Rankings')\n",
    "plt.legend(['Before, Adjusted', 'After'], loc = 'best')\n",
    "\n",
    "ax2 = plt.subplot(1,2,2)\n",
    "sns.kdeplot(x = 'Fandango_Ratingvalue', data = scores_before, color = 'purple')\n",
    "sns.kdeplot(x = 'fandango', data = scores_after, color = 'orange')\n",
    "plt.legend(['User Before', 'Website After'])\n",
    "plt.xlabel('')\n",
    "plt.show()\n"
   ]
  },
  {
   "cell_type": "markdown",
   "metadata": {},
   "source": [
    "We can see that the \"After\" rankings pretty closely align to the \"deflated\" rankings. Of course, it's a different set of movies, so we wouldn't expect to have exactly the same ranking distribution. Movies could simply have ranked lower in 2016. To compare, we represent the distribution of each set with a box plot below and also calculate their mean:"
   ]
  },
  {
   "cell_type": "code",
   "execution_count": 18,
   "metadata": {},
   "outputs": [
    {
     "data": {
      "image/png": "[encoded data removed]",
      "text/plain": [
       "<Figure size 432x432 with 2 Axes>"
      ]
     },
     "metadata": {
      "needs_background": "light"
     },
     "output_type": "display_data"
    },
    {
     "name": "stdout",
     "output_type": "stream",
     "text": [
      "Mean 2015 Score: 4.09\n",
      "Mean 2016 Score: 3.89\n"
     ]
    }
   ],
   "source": [
    "fig = plt.figure(figsize = (6,6))\n",
    "plt.subplot(2,1,1)\n",
    "sns.boxplot(x = 'Fandango_Stars', data = scores_before, color = 'indigo')\n",
    "plt.title('2015')\n",
    "plt.xlabel('')\n",
    "plt.xlim((2,5.5))\n",
    "\n",
    "plt.subplot(2,1,2)\n",
    "sns.boxplot(x = 'fandango', data = scores_after, color = 'crimson', whis = 4)\n",
    "plt.title('2016')\n",
    "plt.xlabel('')\n",
    "plt.xlim((2,5.5))\n",
    "\n",
    "plt.show()\n",
    "\n",
    "print('Mean 2015 Score:', round(scores_before['Fandango_Stars'].mean(),2))\n",
    "print('Mean 2016 Score:', round(scores_after['fandango'].mean(),2))"
   ]
  },
  {
   "cell_type": "markdown",
   "metadata": {},
   "source": [
    "The first quartile and median are the same. However, the minimum and third quartile in 2016 are lower, suggesting that there were fewer movies above 4.5 stars and more below 3 stars in 2016.\n",
    "\n",
    "We can also see that the mean 2016 score is 0.2 lower than 2015. Hence, we can conclude that scores were generally lower in 2016, but cannot yet attribute this to Fandango's practices vs quality of movie.\n",
    "\n",
    "To further investigate the differences in the rankings of 2015 and 2016, we'll compare to a second source of rankings."
   ]
  },
  {
   "cell_type": "markdown",
   "metadata": {},
   "source": [
    "## Comparing to Metacritic\n",
    "We can use data from the review aggregation website Metacritic to estimate whether the \"Before\" and \"After\" samples have comparable distributions, or if the lower rankings in 2016 reflect lower quality films. Since Metacritic aggregates data from many reviews and websites, it likely reflects a more accurate ranking of the films' quality.\n",
    "\n",
    "First let's visually compare the Metacritic and Fandango ratings, before and after. In doing this, we can check the previous finding that the Fandango ratings do appear higher than that on other sites. We'll rescale Metacritic ratings to be out of 5 instead of 100 in the before set. (This has already been done in the after set.)"
   ]
  },
  {
   "cell_type": "code",
   "execution_count": 19,
   "metadata": {},
   "outputs": [],
   "source": [
    "scores_before['Metacritic_rescaled'] = scores_before['Metacritic'] / 20"
   ]
  },
  {
   "cell_type": "code",
   "execution_count": 20,
   "metadata": {},
   "outputs": [
    {
     "data": {
      "image/png": "[encoded data removed]",
      "text/plain": [
       "<Figure size 864x288 with 2 Axes>"
      ]
     },
     "metadata": {
      "needs_background": "light"
     },
     "output_type": "display_data"
    }
   ],
   "source": [
    "fig = plt.figure(figsize = (12,4))\n",
    "ax = fig.add_subplot(1,2,1)\n",
    "sns.kdeplot(x = 'Metacritic_rescaled', data = scores_before)\n",
    "sns.kdeplot(x = 'Fandango_Stars', data = scores_before)\n",
    "ax.set_title('Before Ratings')\n",
    "plt.ylim((0,1))\n",
    "plt.xlabel('')\n",
    "\n",
    "ax = fig.add_subplot(1,2,2)\n",
    "sns.kdeplot(x = 'n_metascore', data = scores_after, legend = True)\n",
    "sns.kdeplot(x = 'fandango', data = scores_after)\n",
    "ax.set_title('After Ratings')\n",
    "plt.ylim((0,1))\n",
    "plt.xlabel('')\n",
    "\n",
    "plt.legend(['Metacritic', 'Fandango'], loc = 'best')\n",
    "plt.show()"
   ]
  },
  {
   "cell_type": "markdown",
   "metadata": {},
   "source": [
    "We can see that both before and after, the Fandango ratings are skewed to the left compared to the roughly normally distributed Metacritic ratings. This supports the claim that the Fandango ratings tend to be higher in general than the Metacritic rating. The \"after\" ratings trend slightly lower for both Fandango and Metacritic. We saw this in the Fandango results above. But since it's also the case for Metacritic, perhaps the second set of movies reflects a population with a lower average.\n",
    "\n",
    "Here's a direct comparison of before and after for each distribution:"
   ]
  },
  {
   "cell_type": "code",
   "execution_count": 21,
   "metadata": {},
   "outputs": [
    {
     "data": {
      "image/png": "[encoded data removed]",
      "text/plain": [
       "<Figure size 864x288 with 2 Axes>"
      ]
     },
     "metadata": {
      "needs_background": "light"
     },
     "output_type": "display_data"
    }
   ],
   "source": [
    "fig = plt.figure(figsize = (12,4))\n",
    "plt.subplot(1,2,1)\n",
    "sns.kdeplot(x = 'Fandango_Stars', data = scores_before, color = 'purple')\n",
    "sns.kdeplot(x = 'fandango', data = scores_after, color = 'red')\n",
    "\n",
    "plt.ylim((0,1))\n",
    "plt.xlabel('Fandango')\n",
    "plt.legend(['Before', 'After'], loc = 'best')\n",
    "\n",
    "plt.subplot(1,2,2)\n",
    "sns.kdeplot(x = 'Metacritic_rescaled', data = scores_before, color = 'purple')\n",
    "sns.kdeplot(x = 'n_metascore', data = scores_after, color = 'red')\n",
    "plt.xlabel('Metacritic')\n",
    "plt.legend(['Before', 'After'], loc = 'best')\n",
    "\n",
    "plt.show()"
   ]
  },
  {
   "cell_type": "code",
   "execution_count": 22,
   "metadata": {},
   "outputs": [
    {
     "name": "stdout",
     "output_type": "stream",
     "text": [
      "Fandango mean before: 4.09 Fandango mean after 3.89\n",
      "Metacritic mean before: 2.84 Metacritic mean after: 2.7\n"
     ]
    }
   ],
   "source": [
    "before_mean = scores_before['Fandango_Stars'].mean()\n",
    "after_mean = scores_after['fandango'].mean()\n",
    "\n",
    "print('Fandango mean before:', round(before_mean,2), 'Fandango mean after', round(after_mean,2))\n",
    "print('Metacritic mean before:', round(scores_before['Metacritic_rescaled'].mean(),2),\n",
    "      'Metacritic mean after:', round(scores_after['n_metascore'].mean(),1))"
   ]
  },
  {
   "cell_type": "markdown",
   "metadata": {},
   "source": [
    "Now it's apparent that the metacritic ratings are lower from both the graphs and means. Both \"after\" distributions are shifted left toward lower scores. Both means are lower, though Fandango's drops by 0.21 compared to Metacritic's 0.14. So it's possible Fandango did deflate some, but part of the lowered scores also appears to be due to lower ranking of the 2016 films overall.\n",
    "\n",
    "Could we compare the *difference* between Fandango rating and (scaled) Metacritic rating to determine whether the Fandango distribution has actually changed?\n",
    "\n",
    "Since we're only working with Fandango & Metacritic, we'll reduce the dataframes to only those relevant to the movie title, year, and fandango & Metacritic rating(s)."
   ]
  },
  {
   "cell_type": "code",
   "execution_count": 23,
   "metadata": {},
   "outputs": [],
   "source": [
    "before = scores_before[['FILM', 'Fandango_Stars', 'Fandango_Ratingvalue', \n",
    "                               'Fandango_votes', 'Fandango_Difference', 'Metacritic_rescaled']].copy()\n",
    "\n",
    "after = scores_after[['movie', 'year', 'fandango', 'n_metascore']].copy()"
   ]
  },
  {
   "cell_type": "markdown",
   "metadata": {},
   "source": [
    "Let's add a column that measures the difference between the two scores, and then compare these two distributions:"
   ]
  },
  {
   "cell_type": "code",
   "execution_count": 24,
   "metadata": {},
   "outputs": [
    {
     "data": {
      "image/png": "[encoded data removed]",
      "text/plain": [
       "<Figure size 432x288 with 1 Axes>"
      ]
     },
     "metadata": {
      "needs_background": "light"
     },
     "output_type": "display_data"
    }
   ],
   "source": [
    "before['difference'] = before['Fandango_Stars'] - before['Metacritic_rescaled']\n",
    "after['difference'] = after['fandango'] - after['n_metascore']\n",
    "\n",
    "sns.kdeplot(x = 'difference', data = before, color = 'purple', lw = 2)\n",
    "sns.kdeplot(x = 'difference', data = after, color = 'red', lw = 2 )\n",
    "plt.axvline(before['difference'].mean(), color = 'purple', lw = 1, dashes = [2,4])\n",
    "plt.axvline(after['difference'].mean(), color = 'red',  lw = 1)\n",
    "plt.legend(['Before', 'After'])\n",
    "plt.xlabel('Difference in Scores')\n",
    "plt.ylabel('')\n",
    "plt.show()"
   ]
  },
  {
   "cell_type": "markdown",
   "metadata": {},
   "source": [
    "In appears that the differences \"Before\" and \"After\" have a similar mean but smaller standard deviation. We can verify this numerically:"
   ]
  },
  {
   "cell_type": "code",
   "execution_count": 25,
   "metadata": {},
   "outputs": [
    {
     "name": "stdout",
     "output_type": "stream",
     "text": [
      "Std Dev Before: 0.97\n",
      "Std Dev After: 0.84\n"
     ]
    }
   ],
   "source": [
    "print('Std Dev Before:', round(before['difference'].describe()[2],2))\n",
    "print('Std Dev After:', round(after['difference'].describe()[2], 2))"
   ]
  },
  {
   "cell_type": "markdown",
   "metadata": {},
   "source": [
    "This would indicate that the difference between Fandango ratings and Metacritic ratings is roughly the same in both samples, on average, but there are fewer Fandango ratings that are very different from Metacritic ratings in the \"After\" set. We can also see this in the box plot of the Before and After differences:"
   ]
  },
  {
   "cell_type": "code",
   "execution_count": 26,
   "metadata": {},
   "outputs": [
    {
     "data": {
      "image/png": "[encoded data removed]",
      "text/plain": [
       "<Figure size 432x432 with 2 Axes>"
      ]
     },
     "metadata": {
      "needs_background": "light"
     },
     "output_type": "display_data"
    }
   ],
   "source": [
    "fig = plt.figure(figsize = (6,6))\n",
    "plt.subplot(2,1,1)\n",
    "sns.boxplot(x = 'difference', data = before, color = 'indigo')\n",
    "plt.title('Differences Before')\n",
    "plt.xlabel('')\n",
    "plt.xlim((-2,4))\n",
    "\n",
    "plt.subplot(2,1,2)\n",
    "sns.boxplot(x = 'difference', data = after, color = 'crimson', whis = 4)\n",
    "plt.title('Differences After')\n",
    "plt.xlabel('')\n",
    "plt.xlim((-2,4))\n",
    "\n",
    "plt.show()"
   ]
  },
  {
   "cell_type": "markdown",
   "metadata": {},
   "source": [
    "What does this mean in terms of Fandango supposedly not inflating its grades? Since the average *difference* in ratings between Fandango and Metacritic has not changed, this suggests that Fandango has not deflated its grades substantially. However, the smaller spread of differences may indicate less extreme inflation.\n",
    "\n",
    "We can also confirm this by comparing the \"Before\" User Ratings with Metacritic Ratings; if Fandango is accurately reflecting the user ratings in the \"After\" stars, then we should see similar distributions Before and After."
   ]
  },
  {
   "cell_type": "code",
   "execution_count": 27,
   "metadata": {},
   "outputs": [
    {
     "data": {
      "image/png": "[encoded data removed]",
      "text/plain": [
       "<Figure size 432x288 with 1 Axes>"
      ]
     },
     "metadata": {
      "needs_background": "light"
     },
     "output_type": "display_data"
    }
   ],
   "source": [
    "before['diff_rating'] = before['Fandango_Ratingvalue'] - before['Metacritic_rescaled']\n",
    "\n",
    "sns.kdeplot(x = 'diff_rating', data = before, color = 'purple', lw = 2)\n",
    "sns.kdeplot(x = 'difference', data = after, color = 'red', lw = 2 )\n",
    "plt.axvline(before['diff_rating'].mean(), color = 'purple', lw = 1, dashes = [2,4])\n",
    "plt.axvline(after['difference'].mean(), color = 'red',  lw = 1)\n",
    "plt.legend(['User, Before', 'Website, After'])\n",
    "plt.xlabel('Rating Difference with Metacritic')\n",
    "plt.show()"
   ]
  },
  {
   "cell_type": "markdown",
   "metadata": {},
   "source": [
    "We see a similar pattern as before - similar means (though this time the website mean is a bit higher than would be expected from the user rankings), and a smaller spread in differences in the \"after\" sample.\n",
    "\n",
    "## Conclusions\n",
    "\n",
    "Our work suggest two main findings:\n",
    "- scores in the 2016 were slightly lower, on average, than scores in 2015\n",
    "- this difference in score is at most partially due to Fandango deflating its ratings, as there is a similar trend in Metacritic scores"
   ]
  },
  {
   "cell_type": "code",
   "execution_count": null,
   "metadata": {},
   "outputs": [],
   "source": []
  }
 ],
 "metadata": {
  "kernelspec": {
   "display_name": "Python 3",
   "language": "python",
   "name": "python3"
  },
  "language_info": {
   "codemirror_mode": {
    "name": "ipython",
    "version": 3
   },
   "file_extension": ".py",
   "mimetype": "text/x-python",
   "name": "python",
   "nbconvert_exporter": "python",
   "pygments_lexer": "ipython3",
   "version": "3.8.5"
  }
 },
 "nbformat": 4,
 "nbformat_minor": 4
}
